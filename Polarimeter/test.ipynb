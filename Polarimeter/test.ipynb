{
 "cells": [
  {
   "cell_type": "code",
   "execution_count": 1,
   "id": "fa0f685d",
   "metadata": {},
   "outputs": [],
   "source": [
    "import numpy as np\n",
    "\n",
    "import matplotlib.pyplot as plt\n",
    "\n",
    "import pandas as pd\n",
    "\n",
    "plt.style.use('seaborn')"
   ]
  },
  {
   "cell_type": "code",
   "execution_count": 2,
   "id": "0a5e661f",
   "metadata": {},
   "outputs": [],
   "source": [
    "tab1 = pd.read_csv('table1.csv')"
   ]
  },
  {
   "cell_type": "code",
   "execution_count": 3,
   "id": "f4680728",
   "metadata": {},
   "outputs": [],
   "source": [
    "cp = tab1.concreq.values\n",
    "\n",
    "c = tab1.stockconc.values\n",
    "\n",
    "x = tab1.volume.values\n",
    "\n",
    "xp = x*(c-cp)/cp\n",
    "\n",
    "tab1['xp'] = xp\n",
    "\n",
    "tab1 = tab1.astype('int')"
   ]
  },
  {
   "cell_type": "code",
   "execution_count": 4,
   "id": "ffcf754b",
   "metadata": {},
   "outputs": [],
   "source": [
    "tab2 =  pd.read_csv('tab2.csv')\n",
    "\n",
    "tab2 = tab2.astype('float64')\n"
   ]
  },
  {
   "cell_type": "code",
   "execution_count": 5,
   "id": "d14d6bd1",
   "metadata": {},
   "outputs": [
    {
     "name": "stdout",
     "output_type": "stream",
     "text": [
      "86.9\n",
      "85.25\n",
      "81.9\n",
      "79.2\n",
      "76.7\n",
      "72.05\n",
      "70.6\n"
     ]
    }
   ],
   "source": [
    "tab2['total'] = tab2.csr + tab2.vsr / 60\n",
    "x = tab2.total\n",
    "mean = [np.mean([x[i-1],x[i]]) for i in range(len(x)) if i % 2 == 1]\n",
    "print(*mean,sep = '\\n')"
   ]
  },
  {
   "cell_type": "code",
   "execution_count": 6,
   "id": "7fdb5ac1",
   "metadata": {},
   "outputs": [
    {
     "data": {
      "text/html": [
       "<div>\n",
       "<style scoped>\n",
       "    .dataframe tbody tr th:only-of-type {\n",
       "        vertical-align: middle;\n",
       "    }\n",
       "\n",
       "    .dataframe tbody tr th {\n",
       "        vertical-align: top;\n",
       "    }\n",
       "\n",
       "    .dataframe thead th {\n",
       "        text-align: right;\n",
       "    }\n",
       "</style>\n",
       "<table border=\"1\" class=\"dataframe\">\n",
       "  <thead>\n",
       "    <tr style=\"text-align: right;\">\n",
       "      <th></th>\n",
       "      <th>conc</th>\n",
       "      <th>csr</th>\n",
       "      <th>vsr</th>\n",
       "      <th>total</th>\n",
       "    </tr>\n",
       "  </thead>\n",
       "  <tbody>\n",
       "    <tr>\n",
       "      <th>0</th>\n",
       "      <td>16.0</td>\n",
       "      <td>87.0</td>\n",
       "      <td>6.0</td>\n",
       "      <td>87.1</td>\n",
       "    </tr>\n",
       "    <tr>\n",
       "      <th>1</th>\n",
       "      <td>16.0</td>\n",
       "      <td>86.0</td>\n",
       "      <td>42.0</td>\n",
       "      <td>86.7</td>\n",
       "    </tr>\n",
       "    <tr>\n",
       "      <th>2</th>\n",
       "      <td>14.0</td>\n",
       "      <td>85.0</td>\n",
       "      <td>30.0</td>\n",
       "      <td>85.5</td>\n",
       "    </tr>\n",
       "    <tr>\n",
       "      <th>3</th>\n",
       "      <td>14.0</td>\n",
       "      <td>85.0</td>\n",
       "      <td>0.0</td>\n",
       "      <td>85.0</td>\n",
       "    </tr>\n",
       "    <tr>\n",
       "      <th>4</th>\n",
       "      <td>12.0</td>\n",
       "      <td>81.0</td>\n",
       "      <td>42.0</td>\n",
       "      <td>81.7</td>\n",
       "    </tr>\n",
       "    <tr>\n",
       "      <th>5</th>\n",
       "      <td>12.0</td>\n",
       "      <td>82.0</td>\n",
       "      <td>6.0</td>\n",
       "      <td>82.1</td>\n",
       "    </tr>\n",
       "    <tr>\n",
       "      <th>6</th>\n",
       "      <td>10.0</td>\n",
       "      <td>79.0</td>\n",
       "      <td>30.0</td>\n",
       "      <td>79.5</td>\n",
       "    </tr>\n",
       "    <tr>\n",
       "      <th>7</th>\n",
       "      <td>10.0</td>\n",
       "      <td>78.0</td>\n",
       "      <td>54.0</td>\n",
       "      <td>78.9</td>\n",
       "    </tr>\n",
       "    <tr>\n",
       "      <th>8</th>\n",
       "      <td>8.0</td>\n",
       "      <td>76.0</td>\n",
       "      <td>24.0</td>\n",
       "      <td>76.4</td>\n",
       "    </tr>\n",
       "    <tr>\n",
       "      <th>9</th>\n",
       "      <td>8.0</td>\n",
       "      <td>77.0</td>\n",
       "      <td>0.0</td>\n",
       "      <td>77.0</td>\n",
       "    </tr>\n",
       "    <tr>\n",
       "      <th>10</th>\n",
       "      <td>6.0</td>\n",
       "      <td>72.0</td>\n",
       "      <td>0.0</td>\n",
       "      <td>72.0</td>\n",
       "    </tr>\n",
       "    <tr>\n",
       "      <th>11</th>\n",
       "      <td>6.0</td>\n",
       "      <td>72.0</td>\n",
       "      <td>6.0</td>\n",
       "      <td>72.1</td>\n",
       "    </tr>\n",
       "    <tr>\n",
       "      <th>12</th>\n",
       "      <td>0.0</td>\n",
       "      <td>70.0</td>\n",
       "      <td>30.0</td>\n",
       "      <td>70.5</td>\n",
       "    </tr>\n",
       "    <tr>\n",
       "      <th>13</th>\n",
       "      <td>0.0</td>\n",
       "      <td>70.0</td>\n",
       "      <td>42.0</td>\n",
       "      <td>70.7</td>\n",
       "    </tr>\n",
       "  </tbody>\n",
       "</table>\n",
       "</div>"
      ],
      "text/plain": [
       "    conc   csr   vsr  total\n",
       "0   16.0  87.0   6.0   87.1\n",
       "1   16.0  86.0  42.0   86.7\n",
       "2   14.0  85.0  30.0   85.5\n",
       "3   14.0  85.0   0.0   85.0\n",
       "4   12.0  81.0  42.0   81.7\n",
       "5   12.0  82.0   6.0   82.1\n",
       "6   10.0  79.0  30.0   79.5\n",
       "7   10.0  78.0  54.0   78.9\n",
       "8    8.0  76.0  24.0   76.4\n",
       "9    8.0  77.0   0.0   77.0\n",
       "10   6.0  72.0   0.0   72.0\n",
       "11   6.0  72.0   6.0   72.1\n",
       "12   0.0  70.0  30.0   70.5\n",
       "13   0.0  70.0  42.0   70.7"
      ]
     },
     "execution_count": 6,
     "metadata": {},
     "output_type": "execute_result"
    }
   ],
   "source": [
    "tab2"
   ]
  },
  {
   "cell_type": "code",
   "execution_count": 7,
   "id": "fede16de",
   "metadata": {},
   "outputs": [],
   "source": [
    "ro = 65 + 15/60\n",
    "ro = np.array([ro for _ in range(7)])"
   ]
  },
  {
   "cell_type": "code",
   "execution_count": 8,
   "id": "9dd735dd",
   "metadata": {},
   "outputs": [],
   "source": [
    "angle = mean-ro\n",
    "theta = angle[-1]"
   ]
  },
  {
   "cell_type": "code",
   "execution_count": 9,
   "id": "2b2fddf9",
   "metadata": {},
   "outputs": [
    {
     "name": "stdout",
     "output_type": "stream",
     "text": [
      "21.65\n",
      "20.00\n",
      "16.65\n",
      "13.95\n",
      "11.45\n",
      "6.80\n",
      "5.35\n"
     ]
    }
   ],
   "source": [
    "print(*[\"{0:.2f}\".format(x) for x in angle],sep = '\\n')"
   ]
  },
  {
   "cell_type": "code",
   "execution_count": 10,
   "id": "409af441",
   "metadata": {},
   "outputs": [
    {
     "name": "stdout",
     "output_type": "stream",
     "text": [
      "67.65625000000003\n",
      "71.42857142857143\n",
      "69.37500000000003\n",
      "69.75000000000001\n",
      "71.56250000000003\n"
     ]
    }
   ],
   "source": [
    "c = np.array([16,14,12,10,8,6])\n",
    "\n",
    "l = np.array([20 for x in c])\n",
    "angle = angle[0:-1]\n",
    "s = 1000*(angle)/(l*c)\n",
    "s = list(s)\n",
    "s = s[0:-1]\n",
    "print(*s,sep = '\\n')"
   ]
  },
  {
   "cell_type": "code",
   "execution_count": 15,
   "id": "2359874a",
   "metadata": {},
   "outputs": [
    {
     "data": {
      "image/png": "[encoded data removed]",
      "text/plain": [
       "<Figure size 576x396 with 1 Axes>"
      ]
     },
     "metadata": {},
     "output_type": "display_data"
    }
   ],
   "source": [
    "slope, inter =  np.polyfit(angle,c,1)\n",
    "plt.plot(angle, slope*angle + inter, 'g--',label = \"Best-Fit\")\n",
    "plt.plot(angle,c,':or',alpha = 0.5,label= 'Original')\n",
    "plt.title('Concentration of the Solution // Angle θ')\n",
    "plt.xlabel('Angle θ (degrees)')\n",
    "plt.ylabel('Concentration of the Solution (g/cc)')\n",
    "plt.legend()\n",
    "\n",
    "\n",
    "plt.text(18,7,'Slope = {:.5f}'.format(slope),bbox=dict(facecolor='orange', alpha=0.2))\n",
    "\n",
    "\n",
    "plt.savefig('graph',dpi = 300)"
   ]
  },
  {
   "cell_type": "code",
   "execution_count": 13,
   "id": "6c893b24",
   "metadata": {},
   "outputs": [
    {
     "data": {
      "text/plain": [
       "5.349999999999994"
      ]
     },
     "execution_count": 13,
     "metadata": {},
     "output_type": "execute_result"
    }
   ],
   "source": [
    "theta"
   ]
  },
  {
   "cell_type": "code",
   "execution_count": 244,
   "id": "4edb4da2",
   "metadata": {},
   "outputs": [
    {
     "data": {
      "text/plain": [
       "3.59120696987209"
      ]
     },
     "execution_count": 244,
     "metadata": {},
     "output_type": "execute_result"
    }
   ],
   "source": [
    "1000 * theta/(74.4874918778428*20)"
   ]
  },
  {
   "cell_type": "code",
   "execution_count": 245,
   "id": "cabff77d",
   "metadata": {},
   "outputs": [
    {
     "data": {
      "text/plain": [
       "74.4874918778428"
      ]
     },
     "execution_count": 245,
     "metadata": {},
     "output_type": "execute_result"
    }
   ],
   "source": [
    "1000/(slope*20)"
   ]
  },
  {
   "cell_type": "code",
   "execution_count": 246,
   "id": "913c685b",
   "metadata": {},
   "outputs": [
    {
     "data": {
      "text/plain": [
       "3.5912306845489823"
      ]
     },
     "execution_count": 246,
     "metadata": {},
     "output_type": "execute_result"
    }
   ],
   "source": [
    "(1000*5.35)/(20* 74.487)"
   ]
  },
  {
   "cell_type": "code",
   "execution_count": null,
   "id": "83a0c157",
   "metadata": {},
   "outputs": [],
   "source": []
  }
 ],
 "metadata": {
  "kernelspec": {
   "display_name": "Virtual",
   "language": "python",
   "name": "virtual"
  },
  "language_info": {
   "codemirror_mode": {
    "name": "ipython",
    "version": 3
   },
   "file_extension": ".py",
   "mimetype": "text/x-python",
   "name": "python",
   "nbconvert_exporter": "python",
   "pygments_lexer": "ipython3",
   "version": "3.9.5"
  }
 },
 "nbformat": 4,
 "nbformat_minor": 5
}

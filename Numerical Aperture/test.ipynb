{
 "cells": [
  {
   "cell_type": "code",
   "execution_count": 39,
   "metadata": {},
   "outputs": [],
   "source": [
    "import pandas as pd\n",
    "import numpy as np\n",
    "import matplotlib.pyplot as plt\n",
    "import seaborn as sns\n",
    "from scipy.signal import find_peaks\n",
    "\n",
    "pd.plotting.register_matplotlib_converters()\n",
    "%matplotlib inline\n",
    "\n",
    "plt.rcParams['figure.dpi'] = 100\n",
    "plt.rcParams['axes.grid'] = True\n",
    "plt.style.use('seaborn')"
   ]
  },
  {
   "cell_type": "code",
   "execution_count": 40,
   "metadata": {},
   "outputs": [],
   "source": [
    "data_1 = pd.read_csv('dataset1.csv')"
   ]
  },
  {
   "cell_type": "code",
   "execution_count": 41,
   "metadata": {},
   "outputs": [],
   "source": [
    "L = data_1['L']\n",
    "W = data_1['W']"
   ]
  },
  {
   "cell_type": "code",
   "execution_count": 42,
   "metadata": {},
   "outputs": [],
   "source": [
    "data_1['NA'] = [W[i]/np.sqrt(4*L[i]**2 + W[i]**2) for i in range(len(L))]\n",
    "data_1['θ'] = [np.arcsin(x)*180/np.pi for x in data_1['NA'].values]\n",
    "data_1['2θ'] = [2*x for x in data_1['θ'].values]\n",
    "data_1.index += 1"
   ]
  },
  {
   "cell_type": "code",
   "execution_count": 43,
   "metadata": {},
   "outputs": [],
   "source": [
    "data_2 = pd.read_csv('dataset2.csv')\n",
    "\n",
    "L = data_2['L']\n",
    "W = data_2['W']\n",
    "\n",
    "data_2['NA'] = [W[i]/np.sqrt(4*L[i]**2 + W[i]**2) for i in range(len(L))]\n",
    "data_2['θ'] = [np.arcsin(x)*180/np.pi for x in data_2['NA'].values]\n",
    "data_2['2θ'] = [2*x for x in data_2['θ'].values]\n",
    "data_2.index += 1"
   ]
  },
  {
   "cell_type": "code",
   "execution_count": 44,
   "metadata": {},
   "outputs": [
    {
     "data": {
      "text/html": [
       "<div>\n",
       "<style scoped>\n",
       "    .dataframe tbody tr th:only-of-type {\n",
       "        vertical-align: middle;\n",
       "    }\n",
       "\n",
       "    .dataframe tbody tr th {\n",
       "        vertical-align: top;\n",
       "    }\n",
       "\n",
       "    .dataframe thead th {\n",
       "        text-align: right;\n",
       "    }\n",
       "</style>\n",
       "<table border=\"1\" class=\"dataframe\">\n",
       "  <thead>\n",
       "    <tr style=\"text-align: right;\">\n",
       "      <th></th>\n",
       "      <th>L</th>\n",
       "      <th>W</th>\n",
       "      <th>NA</th>\n",
       "      <th>θ</th>\n",
       "      <th>2θ</th>\n",
       "    </tr>\n",
       "  </thead>\n",
       "  <tbody>\n",
       "    <tr>\n",
       "      <th>1</th>\n",
       "      <td>10.0</td>\n",
       "      <td>10</td>\n",
       "      <td>0.447214</td>\n",
       "      <td>26.565051</td>\n",
       "      <td>53.130102</td>\n",
       "    </tr>\n",
       "    <tr>\n",
       "      <th>2</th>\n",
       "      <td>14.0</td>\n",
       "      <td>15</td>\n",
       "      <td>0.472221</td>\n",
       "      <td>28.178590</td>\n",
       "      <td>56.357180</td>\n",
       "    </tr>\n",
       "    <tr>\n",
       "      <th>3</th>\n",
       "      <td>18.5</td>\n",
       "      <td>20</td>\n",
       "      <td>0.475517</td>\n",
       "      <td>28.393019</td>\n",
       "      <td>56.786039</td>\n",
       "    </tr>\n",
       "    <tr>\n",
       "      <th>4</th>\n",
       "      <td>24.0</td>\n",
       "      <td>25</td>\n",
       "      <td>0.461934</td>\n",
       "      <td>27.512003</td>\n",
       "      <td>55.024005</td>\n",
       "    </tr>\n",
       "  </tbody>\n",
       "</table>\n",
       "</div>"
      ],
      "text/plain": [
       "      L   W        NA          θ         2θ\n",
       "1  10.0  10  0.447214  26.565051  53.130102\n",
       "2  14.0  15  0.472221  28.178590  56.357180\n",
       "3  18.5  20  0.475517  28.393019  56.786039\n",
       "4  24.0  25  0.461934  27.512003  55.024005"
      ]
     },
     "execution_count": 44,
     "metadata": {},
     "output_type": "execute_result"
    }
   ],
   "source": [
    "data_1"
   ]
  },
  {
   "cell_type": "code",
   "execution_count": 45,
   "metadata": {},
   "outputs": [
    {
     "data": {
      "text/html": [
       "<div>\n",
       "<style scoped>\n",
       "    .dataframe tbody tr th:only-of-type {\n",
       "        vertical-align: middle;\n",
       "    }\n",
       "\n",
       "    .dataframe tbody tr th {\n",
       "        vertical-align: top;\n",
       "    }\n",
       "\n",
       "    .dataframe thead th {\n",
       "        text-align: right;\n",
       "    }\n",
       "</style>\n",
       "<table border=\"1\" class=\"dataframe\">\n",
       "  <thead>\n",
       "    <tr style=\"text-align: right;\">\n",
       "      <th></th>\n",
       "      <th>L</th>\n",
       "      <th>W</th>\n",
       "      <th>NA</th>\n",
       "      <th>θ</th>\n",
       "      <th>2θ</th>\n",
       "    </tr>\n",
       "  </thead>\n",
       "  <tbody>\n",
       "    <tr>\n",
       "      <th>1</th>\n",
       "      <td>8.5</td>\n",
       "      <td>10</td>\n",
       "      <td>0.507020</td>\n",
       "      <td>30.465545</td>\n",
       "      <td>60.931090</td>\n",
       "    </tr>\n",
       "    <tr>\n",
       "      <th>2</th>\n",
       "      <td>14.0</td>\n",
       "      <td>15</td>\n",
       "      <td>0.472221</td>\n",
       "      <td>28.178590</td>\n",
       "      <td>56.357180</td>\n",
       "    </tr>\n",
       "    <tr>\n",
       "      <th>3</th>\n",
       "      <td>18.0</td>\n",
       "      <td>20</td>\n",
       "      <td>0.485643</td>\n",
       "      <td>29.054604</td>\n",
       "      <td>58.109208</td>\n",
       "    </tr>\n",
       "    <tr>\n",
       "      <th>4</th>\n",
       "      <td>22.0</td>\n",
       "      <td>25</td>\n",
       "      <td>0.494009</td>\n",
       "      <td>29.604451</td>\n",
       "      <td>59.208901</td>\n",
       "    </tr>\n",
       "  </tbody>\n",
       "</table>\n",
       "</div>"
      ],
      "text/plain": [
       "      L   W        NA          θ         2θ\n",
       "1   8.5  10  0.507020  30.465545  60.931090\n",
       "2  14.0  15  0.472221  28.178590  56.357180\n",
       "3  18.0  20  0.485643  29.054604  58.109208\n",
       "4  22.0  25  0.494009  29.604451  59.208901"
      ]
     },
     "execution_count": 45,
     "metadata": {},
     "output_type": "execute_result"
    }
   ],
   "source": [
    "data_2"
   ]
  },
  {
   "cell_type": "code",
   "execution_count": 46,
   "metadata": {},
   "outputs": [
    {
     "data": {
      "text/plain": [
       "(55.324331666135805, 58.65159493725055)"
      ]
     },
     "execution_count": 46,
     "metadata": {},
     "output_type": "execute_result"
    }
   ],
   "source": [
    "np.mean(data_1[\"2θ\"]),np.mean(data_2[\"2θ\"])"
   ]
  },
  {
   "cell_type": "code",
   "execution_count": null,
   "metadata": {},
   "outputs": [],
   "source": []
  }
 ],
 "metadata": {
  "kernelspec": {
   "display_name": "Python 3",
   "language": "python",
   "name": "python3"
  },
  "language_info": {
   "codemirror_mode": {
    "name": "ipython",
    "version": 3
   },
   "file_extension": ".py",
   "mimetype": "text/x-python",
   "name": "python",
   "nbconvert_exporter": "python",
   "pygments_lexer": "ipython3",
   "version": "3.8.5"
  }
 },
 "nbformat": 4,
 "nbformat_minor": 1
}
